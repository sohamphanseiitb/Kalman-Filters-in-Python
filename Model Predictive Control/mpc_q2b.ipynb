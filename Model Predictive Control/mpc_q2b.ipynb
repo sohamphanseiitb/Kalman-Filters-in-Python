{
 "cells": [
  {
   "cell_type": "markdown",
   "metadata": {},
   "source": [
    "# ME599-006 Applied Optimal Control - Fall 2024\n",
    "\n",
    "## Final Exam \n",
    "\n",
    "## Soham Shirish Phanse\n",
    "## University of Michigan\n",
    "\n",
    "Mail: ssphanse@umich.edu"
   ]
  },
  {
   "cell_type": "markdown",
   "metadata": {},
   "source": [
    "# Library Imports"
   ]
  },
  {
   "cell_type": "code",
   "execution_count": null,
   "metadata": {},
   "outputs": [],
   "source": [
    "import numpy as np\n",
    "from scipy.optimize import minimize\n",
    "from tqdm import tqdm\n",
    "import matplotlib.pyplot as plt\n",
    "import seaborn as sns"
   ]
  },
  {
   "cell_type": "markdown",
   "metadata": {},
   "source": [
    "# Define System Parameters"
   ]
  },
  {
   "cell_type": "code",
   "execution_count": null,
   "metadata": {},
   "outputs": [],
   "source": [
    "# System parameters\n",
    "eta = 0.9                   # Efficiency of the motor\n",
    "C_rr = 0.01                 # Rolling resistance coefficient\n",
    "m = 500                     # Mass of the vehicle (kg)\n",
    "g = 9.8                     # Gravitational acceleration (m/s^2)\n",
    "rho = 1.2                   # Air density (kg/m^3)\n",
    "C_d = 0.15                  # Drag coefficient\n",
    "A_ref = 1                   # Reference area (m^2)\n",
    "dx = 10            # Distance step (m)\n",
    "dxc = 2                 # Distance step (m) for simulation of continuous system\n",
    "xfinal = 20000              # in metres\n",
    "xpreview = 500              # in metres\n",
    "\n",
    "# Initial conditions\n",
    "v0 = 15                     # in m/s\n",
    "E_bat0 = 200000             # in J\n",
    "x0 = 0                      # in m\n",
    "t0 = 0                      # s\n",
    "\n",
    "# MPC parameters\n",
    "Np = 50                              # Prediction horizon\n",
    "Nc = 50                              # Control horizon\n",
    "sim_steps = int(xfinal/dx)  # Total simulation steps (20 km / 10 m) = 2000 steps\n",
    "\n",
    "# Constraints\n",
    "v_min, v_max = 0 , 30                # m/s\n",
    "E_bat_min, E_bat_max = 1000, 200000"
   ]
  },
  {
   "cell_type": "markdown",
   "metadata": {},
   "source": [
    "# Define Utility Functions"
   ]
  },
  {
   "cell_type": "markdown",
   "metadata": {},
   "source": [
    "## Solar Power Profile"
   ]
  },
  {
   "cell_type": "code",
   "execution_count": null,
   "metadata": {},
   "outputs": [],
   "source": [
    "# Solar power function\n",
    "def solar_power(x):\n",
    "    if x>=0 and x <= 5000:  # 0-5 km\n",
    "        return 1000\n",
    "    elif x>5000 and x <= 10000: # 5-10 km\n",
    "        return 800\n",
    "    elif x>10000 and x <= 15000: # 10-15 km\n",
    "        return 1200\n",
    "    else: # 15-20 km\n",
    "        return 1000\n",
    "    \n",
    "# plot the solar power function using beautfiul seaborn style\n",
    "sns.set_context(\"talk\")\n",
    "sns.set_style(\"whitegrid\")\n",
    "sns.set_palette(\"husl\")\n",
    "\n",
    "x = np.linspace(0, xfinal, 1000)\n",
    "y = [solar_power(i) for i in x]\n",
    "plt.plot(x,y)\n",
    "plt.xlabel('Distance (m)', fontsize=10)\n",
    "plt.xticks(fontsize=10)\n",
    "plt.yticks(fontsize=10)\n",
    "plt.ylabel('Solar Power (W)', fontsize=10)\n",
    "plt.title('Solar Power (in W) vs Distance (in km)', fontsize=10)\n",
    "plt.grid(1)\n",
    "plt.show()"
   ]
  },
  {
   "cell_type": "markdown",
   "metadata": {},
   "source": [
    "## System Dynamics\n",
    "\n",
    "We implement the following system dynamics and update scheme\n",
    "\n",
    "$$ \\dot{E_{bat}} = P_{sun} - \\frac{v}{\\eta}\\left(ma + C_{rr}mg + \\frac{1}{2}\\rho v^2 C_d A_{ref}\\right) $$\n",
    "\n",
    "$$ E_{bat}(k+1) = E_bat(k) + \\frac{dx}{v(k)}*Q(E_{bat}(k)) $$\n",
    "\n",
    "By, $Q(E_{bat})$, we mean that it can either be $E_{bat}$ or some function of $E_{bat}$ which is usually an RK4 update algorithm or so. \n",
    "\n",
    "$$ v(k+1) = \\sqrt{v^2(k) + 2a(k)dx} $$\n",
    "\n",
    "$$ t(k+1) = t(k) + \\frac{dx}{v(k)}$$"
   ]
  },
  {
   "cell_type": "code",
   "execution_count": null,
   "metadata": {},
   "outputs": [],
   "source": [
    "# System dynamics\n",
    "def system_dynamics(X, a, P_sun):\n",
    "    E_bat, v = X                        # State variables\n",
    "    dE_bat = P_sun - (v/eta) * (m*a + C_rr*m*g + 0.5*rho*v**2*C_d*A_ref)\n",
    "    dv = a\n",
    "    return np.array([dE_bat, dv])       # Return the derivative of the state\n",
    "\n",
    "# RK4 method for state update\n",
    "\"\"\"def rk4_update(X, a, dx):\n",
    "    E_bat, v, t, x = X\n",
    "    P_sun = solar_power(x)\n",
    "    \n",
    "    k1 = system_dynamics([E_bat, v], a, P_sun)\n",
    "    k2 = system_dynamics([E_bat + dx/(2*v)*k1[0], v + dx/(2*v)*k1[1]], a, P_sun)\n",
    "    k3 = system_dynamics([E_bat + dx/(2*v)*k2[0], v + dx/(2*v)*k2[1]], a, P_sun)\n",
    "    k4 = system_dynamics([E_bat + dx/v*k3[0], v + dx/v*k3[1]], a, P_sun)\n",
    "    \n",
    "    E_bat_next = E_bat + (dx/v) * (k1[0] + 2*k2[0] + 2*k3[0] + k4[0]) / 6\n",
    "    v_next = v + (dx/v) * (k1[1] + 2*k2[1] + 2*k3[1] + k4[1]) / 6\n",
    "    t_next = t + dx/v\n",
    "    x_next = x + dx\n",
    "    \n",
    "    return np.array([E_bat_next, v_next, t_next, x_next])\n",
    "\"\"\"\n",
    "\n",
    "# refined rk4 method for state update\n",
    "def rk4_update(X, a, dx):\n",
    "\n",
    "    E_bat, v, t, x = X\n",
    "    P_sun = solar_power(x)\n",
    "    \n",
    "    # Update velocity using the equation of motion: v^2 = v_0^2 + 2aΔx\n",
    "    v_next = v + a*dx/v #can also use the other kinematic approximation = np.sqrt(v**2 + 2*a*dx + eps)\n",
    "    \n",
    "    # Calculate average velocity over the step\n",
    "    v_avg = (v + v_next) / 2\n",
    "    \n",
    "    # Update battery energy using RK4\n",
    "    k1 = P_sun - (v/eta) * (m*a + C_rr*m*g + 0.5*rho*v**2*C_d*A_ref)\n",
    "    k2 = P_sun - (v_avg/eta) * (m*a + C_rr*m*g + 0.5*rho*v_avg**2*C_d*A_ref)\n",
    "    k3 = P_sun - (v_avg/eta) * (m*a + C_rr*m*g + 0.5*rho*v_avg**2*C_d*A_ref)\n",
    "    k4 = P_sun - (v_next/eta) * (m*a + C_rr*m*g + 0.5*rho*v_next**2*C_d*A_ref)\n",
    "    \n",
    "    E_bat_next = E_bat + (dx/v_avg) * (k1 + 2*k2 + 2*k3 + k4) / 6\n",
    "    \n",
    "    # Update time\n",
    "    t_next = t + 2*dx / (v + v_next)\n",
    "    \n",
    "    # Update position\n",
    "    x_next = x + dx\n",
    "    \n",
    "    return np.array([E_bat_next, v_next, t_next, x_next])"
   ]
  },
  {
   "cell_type": "markdown",
   "metadata": {},
   "source": [
    "## Cost Function\n",
    "\n",
    "$$ J(a(k), x(k)) = t(k + N_p | k) - t(k) + 10 \\sum_{i=k}^{k + N_p - 1} a^2(i | k) $$\n",
    "\n",
    "where $k$ is the index of the outer simulation loop, where at each $k$, the MPC predicts the trajectory for the next $N_p$ number of steps, and hence the running cost for that step $k$ is the expected time to traverse that prediction horizon as well as the predicted control output at each step $i$ of the prediction horizon ($i$ is the index of the inner loop)."
   ]
  },
  {
   "cell_type": "code",
   "execution_count": null,
   "metadata": {},
   "outputs": [],
   "source": [
    "# Cost function for MPC\n",
    "def cost_function(a, X):\n",
    "    E_bat, v, t, x = X                 # extract the state variables\n",
    "    t_start = t\n",
    "    J = 0\n",
    "    for i in range(Np):\n",
    "        X = rk4_update([E_bat, v, t, x], a[i], dx)  # simulate the system and get the next state\n",
    "        E_bat, v, t, x = X              # extract the state variables\n",
    "        J += 10 * a[i]**2               # add penalty for control signal\n",
    "    J += (t - t_start)                  # add penalty for time taken\n",
    "    return J"
   ]
  },
  {
   "cell_type": "markdown",
   "metadata": {},
   "source": [
    "## Non-linear Constraints\n",
    "\n",
    "We have the following constraints at each step of the outer loop $k$:\n",
    "\n",
    "$$ 0 \\leq v(k) \\leq 30 $$\n",
    "$$ 1000 \\leq E_{bat}(k) \\leq 200000 $$\n",
    "\n",
    "Note that the velocity is measured in m/s and Energy of battery is in Joules. "
   ]
  },
  {
   "cell_type": "code",
   "execution_count": null,
   "metadata": {},
   "outputs": [],
   "source": [
    "# Nonlinear constraints for optimization\n",
    "def nlcon(a, X):\n",
    "    E_bat, v, t, x = X               # extract the state variables\n",
    "    c = []\n",
    "    # Np is the prediction horizon\n",
    "    for i in range(Np):\n",
    "        X = rk4_update([E_bat, v, t, x], a[i], dx)                              # simulate the system and get the next state\n",
    "        E_bat, v, t, x = X                                                      # extract the state variables\n",
    "        c.extend([v_min - v, v - v_max, E_bat_min - E_bat, E_bat - E_bat_max])  # add constraints\n",
    "    return np.array(c)"
   ]
  },
  {
   "cell_type": "markdown",
   "metadata": {},
   "source": [
    "## Main Simulation Loop\n",
    "\n",
    "1. Create Variables to store the states $E_{bat}, v, t$ and the independent variable $x$ as well as the control input.\n",
    "2. We start looping through the outer loop, here the index $k$ runs from 0 to N-1, note that this $N$ is not equal to $N_p$. $$ N = \\frac{x_f}{\\Delta x}$$\n",
    "3. Store the state values at the current iteration index $k$.\n",
    "4. Define bounds on the control input if applicable. \n",
    "5. Define constraints on the decision variable.\n",
    "6. Define the objective function and minimize. Note that in the scipy.minimize function, we are sending a function palceholder which depends on acceleration, and for the given cost function (remember that the cost function is computed for the next $N_p$ steps), constraints. We also send in an arbitary initial value of the initial acceleration as an initial guess to the optimization function. (check variable `a_init` : we can also define `a_init` as a constant array taking acceleration values from the previous step as a warm start)\n",
    "7. We consider the first control signal (first as in, first step) of the generated control output for the next $N_p$ steps. And we propagate the states with this new acceleration value.\n",
    "8. Now there is another small trick in here, to improve the accuracy of the MPC model, we can simulate the system at smaller timesteps than used for the outer loops, hence if the outer loop step is $\\Delta$, and inner update loop step is $\\delta$, and we consider the acceleration to be constant over the inner loop. We can also choose to keep it simple and only simulate using the same outer loop timestep. "
   ]
  },
  {
   "cell_type": "code",
   "execution_count": null,
   "metadata": {},
   "outputs": [],
   "source": [
    "# Main simulation loop\n",
    "x_array = [x0]\n",
    "v_array = [v0]\n",
    "E_bat_array = [E_bat0]\n",
    "t_array = [t0]\n",
    "a_array = []\n",
    "\n",
    "for k in tqdm(range(sim_steps - 1)):\n",
    "    X = np.array([E_bat_array[k], v_array[k], t_array[k], x_array[k]])\n",
    "    \n",
    "    # Solve MPC optimization problem\n",
    "    a_init = np.zeros(Np)                           # initial guess for control signal\n",
    "    bounds = [(-10, 10)] * Np                   \n",
    "    cons = {'type': 'ineq', 'fun': lambda a: -nlcon(a, X)}  # nonlinear constraints\n",
    "    result = minimize(lambda a: cost_function(a, X), a_init, method='SLSQP', bounds=bounds, constraints=cons) # optimization\n",
    "    \n",
    "    a = result.x[0]\n",
    "    a_array.append(a)       # only store the first control signal\n",
    "    \n",
    "    # continous system simulation\n",
    "    # Update state using RK4 method - using smaller step size for inner loop\n",
    "    ac = np.ones(int(dx/dxc)) * a\n",
    "    for jj in range(int(dx/dxc)):\n",
    "        X_next = rk4_update(X, ac[jj], dxc)\n",
    "        X = X_next\n",
    "\n",
    "    #X_next = rk4_update(X, a, dxc) # normal - using same step as outer loop\n",
    "    \n",
    "    E_bat_array.append(X_next[0])\n",
    "    v_array.append(X_next[1])\n",
    "    t_array.append(X_next[2])\n",
    "    x_array.append(X_next[3])\n",
    "    \n",
    "    # Break if we've reached the end of the race\n",
    "    if x_array[-1] >= xfinal:\n",
    "        break"
   ]
  },
  {
   "cell_type": "markdown",
   "metadata": {},
   "source": [
    "## Plot"
   ]
  },
  {
   "cell_type": "code",
   "execution_count": null,
   "metadata": {},
   "outputs": [],
   "source": [
    "# Plot results\n",
    "# make beautiful plots using seaborn\n",
    "sns.set_context(\"talk\")\n",
    "sns.set_style(\"whitegrid\")\n",
    "sns.set_palette(\"husl\")\n",
    "\n",
    "fig, axs = plt.subplots(3, 1, figsize=(12, 8))\n",
    "\n",
    "axs[0].plot(np.array(x_array[:-1])/1000, v_array[:-1])\n",
    "axs[0].set_xlabel('Position (km)')\n",
    "axs[0].set_ylabel('Velocity (m/s)')\n",
    "axs[0].set_title('Velocity Profile')\n",
    "\n",
    "axs[1].plot(np.array(x_array[:-1])/1000, np.array(E_bat_array[:-1])/1000)\n",
    "axs[1].set_xlabel('Position (km)')\n",
    "axs[1].set_ylabel('Battery State of Charge (kJ)')\n",
    "axs[1].set_title('Battery State of Charge')\n",
    "\n",
    "axs[2].plot(np.array(t_array[:-1]), a_array)\n",
    "axs[2].set_xlabel('Position (km)')\n",
    "axs[2].set_ylabel('Acceleration (m/s^2)')\n",
    "axs[2].set_title('Acceleration Profile')\n",
    "\n",
    "plt.tight_layout()\n",
    "plt.show()\n",
    "\n",
    "print(f\"Race completion time: {t_array[-1]:.2f} seconds\")"
   ]
  }
 ],
 "metadata": {
  "kernelspec": {
   "display_name": "Python 3",
   "language": "python",
   "name": "python3"
  },
  "language_info": {
   "codemirror_mode": {
    "name": "ipython",
    "version": 3
   },
   "file_extension": ".py",
   "mimetype": "text/x-python",
   "name": "python",
   "nbconvert_exporter": "python",
   "pygments_lexer": "ipython3",
   "version": "3.12.7"
  }
 },
 "nbformat": 4,
 "nbformat_minor": 2
}
